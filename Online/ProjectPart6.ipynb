{
  "nbformat": 4,
  "nbformat_minor": 0,
  "metadata": {
    "colab": {
      "name": "Untitled0.ipynb",
      "provenance": [],
      "include_colab_link": true
    },
    "kernelspec": {
      "name": "python3",
      "display_name": "Python 3"
    }
  },
  "cells": [
    {
      "cell_type": "markdown",
      "metadata": {
        "id": "view-in-github",
        "colab_type": "text"
      },
      "source": [
        "<a href=\"https://colab.research.google.com/github/Saauraav246/Saauraav246/blob/main/Online/ProjectPart6.ipynb\" target=\"_parent\"><img src=\"https://colab.research.google.com/assets/colab-badge.svg\" alt=\"Open In Colab\"/></a>"
      ]
    },
    {
      "cell_type": "markdown",
      "metadata": {
        "id": "YCJaepmmfKrS"
      },
      "source": [
        "# Project Part #6 : CPSMA 3913\n",
        "##Dr. Jacob\n",
        "\n",
        "Discrete Mathematics \n",
        "\n",
        "Saurav Chaudhary \n",
        "\n",
        "270090\n",
        "\n",
        "\n"
      ]
    },
    {
      "cell_type": "markdown",
      "metadata": {
        "id": "_7RoPTU_hXG1"
      },
      "source": [
        "## Numbers"
      ]
    },
    {
      "cell_type": "markdown",
      "metadata": {
        "id": "MMXFYCZ6hajg"
      },
      "source": [
        "##For the first question where I'm converting 24036 with base 7 to base 10.\n",
        "I am going to use built-in command to execute it. \n",
        "##Calculation \n",
        "            : (2*7^4)+(4*7^3)+(0*7^2)+(3*7^1)+(6*7^0)\n",
        "            :  4802  + 1372  +  0    + 21    +  6\n",
        "            :  6201"
      ]
    },
    {
      "cell_type": "code",
      "source": [
        "int(\"24036\",7)"
      ],
      "metadata": {
        "colab": {
          "base_uri": "https://localhost:8080/"
        },
        "id": "9QDCtI8UIS35",
        "outputId": "99a865bf-9d01-44bc-846e-db7e6092afae"
      },
      "execution_count": 44,
      "outputs": [
        {
          "output_type": "execute_result",
          "data": {
            "text/plain": [
              "6201"
            ]
          },
          "metadata": {},
          "execution_count": 44
        }
      ]
    },
    {
      "cell_type": "code",
      "source": [
        "(2*7**4)+(4*7**3)+(0*7**2)+(3*7**1)+(6*7**0)"
      ],
      "metadata": {
        "colab": {
          "base_uri": "https://localhost:8080/"
        },
        "id": "Y_jTE4x0GsZA",
        "outputId": "2596455b-96da-4cf4-d575-d4aaf7f57696"
      },
      "execution_count": 91,
      "outputs": [
        {
          "output_type": "execute_result",
          "data": {
            "text/plain": [
              "6201"
            ]
          },
          "metadata": {},
          "execution_count": 91
        }
      ]
    },
    {
      "cell_type": "markdown",
      "source": [
        "## For conversion of Hexadecimal number 72e3 or 0x72e3 into base 10.\n",
        "Using int('0x72e3',16)\n",
        "##Calculation\n",
        "             : (7*16^3)+(2*16^2)+(14*16^1)+(3*16^0)\n",
        "             : 29411"
      ],
      "metadata": {
        "id": "3fS4YxByLB_J"
      }
    },
    {
      "cell_type": "code",
      "metadata": {
        "id": "8tq3u2PnJLae",
        "colab": {
          "base_uri": "https://localhost:8080/"
        },
        "outputId": "842518e3-02c5-48c1-ab1e-49f34fa17dc8"
      },
      "source": [
        "int('0x72e3',16)"
      ],
      "execution_count": 78,
      "outputs": [
        {
          "output_type": "execute_result",
          "data": {
            "text/plain": [
              "29411"
            ]
          },
          "metadata": {},
          "execution_count": 78
        }
      ]
    },
    {
      "cell_type": "code",
      "source": [
        "(7*16**3)+(2*16**2)+(14*16**1)+(3*16**0)"
      ],
      "metadata": {
        "colab": {
          "base_uri": "https://localhost:8080/"
        },
        "id": "vma0spUbMsq2",
        "outputId": "3dae9850-5e0f-4d0a-e256-4d694f1cc8e7"
      },
      "execution_count": 96,
      "outputs": [
        {
          "output_type": "execute_result",
          "data": {
            "text/plain": [
              "29411"
            ]
          },
          "metadata": {},
          "execution_count": 96
        }
      ]
    },
    {
      "cell_type": "markdown",
      "source": [
        "## For conversion of Decimal number (3735928559) to Hexadecimal."
      ],
      "metadata": {
        "id": "9j1uyAsxM85D"
      }
    },
    {
      "cell_type": "code",
      "metadata": {
        "id": "5oqBcutqHu-R",
        "colab": {
          "base_uri": "https://localhost:8080/"
        },
        "outputId": "db8a1472-f74d-4f21-ae9f-9e9341e18c3f"
      },
      "source": [
        "from math import floor\n",
        "print(3735928559%16)\n",
        "floor(3735928559/16)"
      ],
      "execution_count": 131,
      "outputs": [
        {
          "output_type": "stream",
          "name": "stdout",
          "text": [
            "15\n"
          ]
        },
        {
          "output_type": "execute_result",
          "data": {
            "text/plain": [
              "233495534"
            ]
          },
          "metadata": {},
          "execution_count": 131
        }
      ]
    },
    {
      "cell_type": "code",
      "metadata": {
        "id": "rlczad_4IMkh",
        "colab": {
          "base_uri": "https://localhost:8080/"
        },
        "outputId": "3039f59b-b5d8-4a68-a235-c6036b7a4731"
      },
      "source": [
        "print(233495534%16)\n",
        "floor(233495534/16)"
      ],
      "execution_count": 113,
      "outputs": [
        {
          "output_type": "stream",
          "name": "stdout",
          "text": [
            "14\n"
          ]
        },
        {
          "output_type": "execute_result",
          "data": {
            "text/plain": [
              "14593470"
            ]
          },
          "metadata": {},
          "execution_count": 113
        }
      ]
    },
    {
      "cell_type": "code",
      "metadata": {
        "id": "StROzXRVIZoY",
        "colab": {
          "base_uri": "https://localhost:8080/"
        },
        "outputId": "080d7fe4-62b7-4aa1-ae6e-3973194a99c0"
      },
      "source": [
        "print(14593470%16)\n",
        "floor(14593470/16)"
      ],
      "execution_count": 114,
      "outputs": [
        {
          "output_type": "stream",
          "name": "stdout",
          "text": [
            "14\n"
          ]
        },
        {
          "output_type": "execute_result",
          "data": {
            "text/plain": [
              "912091"
            ]
          },
          "metadata": {},
          "execution_count": 114
        }
      ]
    },
    {
      "cell_type": "code",
      "source": [
        "print(912091%16)\n",
        "floor(912091/16)"
      ],
      "metadata": {
        "colab": {
          "base_uri": "https://localhost:8080/"
        },
        "id": "T8A-Z-gdP2C4",
        "outputId": "fad79387-33cc-428a-d3e2-56af28ade3ca"
      },
      "execution_count": 125,
      "outputs": [
        {
          "output_type": "stream",
          "name": "stdout",
          "text": [
            "11\n"
          ]
        },
        {
          "output_type": "execute_result",
          "data": {
            "text/plain": [
              "57005"
            ]
          },
          "metadata": {},
          "execution_count": 125
        }
      ]
    },
    {
      "cell_type": "code",
      "source": [
        "print(57005%16)\n",
        "floor(57005/16)"
      ],
      "metadata": {
        "colab": {
          "base_uri": "https://localhost:8080/"
        },
        "id": "2VzXJ4IZQAio",
        "outputId": "ebf8e9ba-3c1e-4f39-e24b-38f737b32124"
      },
      "execution_count": 126,
      "outputs": [
        {
          "output_type": "stream",
          "name": "stdout",
          "text": [
            "13\n"
          ]
        },
        {
          "output_type": "execute_result",
          "data": {
            "text/plain": [
              "3562"
            ]
          },
          "metadata": {},
          "execution_count": 126
        }
      ]
    },
    {
      "cell_type": "code",
      "source": [
        "print(3562%16)\n",
        "floor(3562/16)"
      ],
      "metadata": {
        "colab": {
          "base_uri": "https://localhost:8080/"
        },
        "id": "n36GAA7yQMqs",
        "outputId": "48d1cb16-9b86-4049-ebc1-00fc42120a40"
      },
      "execution_count": 127,
      "outputs": [
        {
          "output_type": "stream",
          "name": "stdout",
          "text": [
            "10\n"
          ]
        },
        {
          "output_type": "execute_result",
          "data": {
            "text/plain": [
              "222"
            ]
          },
          "metadata": {},
          "execution_count": 127
        }
      ]
    },
    {
      "cell_type": "code",
      "source": [
        "print(222%16)\n",
        "floor(222/16)"
      ],
      "metadata": {
        "colab": {
          "base_uri": "https://localhost:8080/"
        },
        "id": "3EdBNGB3QWjJ",
        "outputId": "af472b96-eccb-4f67-cdc4-143486816ebd"
      },
      "execution_count": 122,
      "outputs": [
        {
          "output_type": "stream",
          "name": "stdout",
          "text": [
            "14\n"
          ]
        },
        {
          "output_type": "execute_result",
          "data": {
            "text/plain": [
              "13"
            ]
          },
          "metadata": {},
          "execution_count": 122
        }
      ]
    },
    {
      "cell_type": "code",
      "source": [
        "print(13%16)\n",
        "floor(13/16)"
      ],
      "metadata": {
        "colab": {
          "base_uri": "https://localhost:8080/"
        },
        "id": "abHMyjSsQZ_B",
        "outputId": "3c6a4766-131f-4530-ac57-826d69f2d61e"
      },
      "execution_count": 124,
      "outputs": [
        {
          "output_type": "stream",
          "name": "stdout",
          "text": [
            "13\n"
          ]
        },
        {
          "output_type": "execute_result",
          "data": {
            "text/plain": [
              "0"
            ]
          },
          "metadata": {},
          "execution_count": 124
        }
      ]
    },
    {
      "cell_type": "markdown",
      "metadata": {
        "id": "I83x3W5rIewO"
      },
      "source": [
        "For number 3735928559, it's hexadecimal number will be \n",
        "##HERE, A = 10 , B = 11 , C = 12 , D = 13 , E = 14 , F = 15\n",
        "\n",
        "13 = D \n",
        "\n",
        "14 = E\n",
        "\n",
        "10 = A\n",
        "\n",
        "13 = D\n",
        "\n",
        "11 = B\n",
        "\n",
        "14 = E\n",
        "\n",
        "14 = E\n",
        "\n",
        "15 = F\n",
        "\n",
        "which is DEADBEEF\n",
        "\n",
        "##For Checking\n",
        "              :(13*16^7)+(14*16^6)+(10*16^5)+(13*16^4)+(11*16^3)+ \n",
        "              (14*16^2)+(14*16^1)+(15*16^0)\n",
        "              : 3735928559"
      ]
    },
    {
      "cell_type": "code",
      "source": [
        "(13*16**7)+(14*16**6)+(10*16**5)+(13*16**4)+(11*16**3)+(14*16**2)+(14*16**1)+(15*16**0)"
      ],
      "metadata": {
        "colab": {
          "base_uri": "https://localhost:8080/"
        },
        "id": "tgpwqLJsW6w1",
        "outputId": "ac307067-6a36-4477-d0f7-283d17eb5fd2"
      },
      "execution_count": 140,
      "outputs": [
        {
          "output_type": "execute_result",
          "data": {
            "text/plain": [
              "3735928559"
            ]
          },
          "metadata": {},
          "execution_count": 140
        }
      ]
    },
    {
      "cell_type": "code",
      "metadata": {
        "id": "uKWT1q1YIdim",
        "colab": {
          "base_uri": "https://localhost:8080/"
        },
        "outputId": "70121fbd-ebd7-4e59-d865-d0997f284a1a"
      },
      "source": [
        "int(0xDEADBEEF)"
      ],
      "execution_count": 148,
      "outputs": [
        {
          "output_type": "execute_result",
          "data": {
            "text/plain": [
              "3735928559"
            ]
          },
          "metadata": {},
          "execution_count": 148
        }
      ]
    },
    {
      "cell_type": "markdown",
      "metadata": {
        "id": "WOswaw5FJGzt"
      },
      "source": [
        "#For base ten substraction (25 - 37 ) using two's complement\n"
      ]
    },
    {
      "cell_type": "markdown",
      "source": [
        "Firstly, finding twos complimet for 25\n",
        "\n",
        "Binary for 25 : 1 1 0 0 1\n",
        "\n",
        "using 8 bits for calculation \n",
        "\n",
        "                0 0 0 1 1 0 0 1\n",
        "                \n",
        "                switching 1's and 0's\n",
        "\n",
        "                1 1 1 0 0 1 1 0\n",
        "\n",
        "                adding 1\n",
        "\n",
        "                1 1 1 0 0 1 1 1 \n",
        "\n",
        "\n",
        "\n"
      ],
      "metadata": {
        "id": "x5iNYQM6zBRw"
      }
    },
    {
      "cell_type": "markdown",
      "source": [
        "Now for -37 the twos complement is\n",
        "\n",
        "Binary for -37 : 1 1 0 1 1 0 1 1\n",
        "\n",
        "Using 8 bits for calculation\n",
        "\n",
        "            1 1 0 1 1 1 0 1 1\n",
        "\n",
        "            switching 1's and 0's\n",
        "\n",
        "            0 0 1 0 0 1 0 0\n",
        "\n",
        "            adding 1\n",
        "\n",
        "            0 0 1 0 0 1 0 1\n"
      ],
      "metadata": {
        "id": "H2u02PExwYr-"
      }
    },
    {
      "cell_type": "markdown",
      "source": [
        "Now adding both of the complements inorder to get the final result "
      ],
      "metadata": {
        "id": "gO8TWq9h6eMW"
      }
    },
    {
      "cell_type": "code",
      "source": [
        "a = \"11100111\"\n",
        "b = \"00100101\"\n",
        "\n",
        "sum = bin(int(a, 2) + int(b, 2))\n",
        "\n",
        "print(sum[2:])"
      ],
      "metadata": {
        "colab": {
          "base_uri": "https://localhost:8080/"
        },
        "id": "5BvI35ZQf2Vz",
        "outputId": "966f9d69-85b1-4b25-b229-2257147eef13"
      },
      "execution_count": 252,
      "outputs": [
        {
          "output_type": "stream",
          "name": "stdout",
          "text": [
            "100001100\n"
          ]
        }
      ]
    },
    {
      "cell_type": "markdown",
      "source": [
        " result : \"  0 0 0 0 1 1 0 0 \"\n",
        " \n",
        "For 8 Bit result\n"
      ],
      "metadata": {
        "id": "od4wEKiY8PmX"
      }
    },
    {
      "cell_type": "markdown",
      "source": [
        "Here base ten calculation for ( 25 - 37 ) = - 12\n",
        "\n",
        "Now, \n",
        "Checking -12 two's complement to match the result \n",
        "\n",
        "Binary for -12 using 8 bits :\n",
        "                             1 1 1 1 0 1 0 0\n",
        "\n",
        "                             switching 1's and 0's\n",
        "\n",
        "                             0 0 0 0 1 0 1 1\n",
        "\n",
        "                             adding 1 \n",
        "\n",
        "                             0 0 0 0 1 1 0 0\n",
        "\n",
        "Here result for base ten ( -12 )  matches the result where two's complement for (25 - 37) = 0 0 0 0 1 1 0 0"
      ],
      "metadata": {
        "id": "yn1Pp1T-D-ZV"
      }
    },
    {
      "cell_type": "markdown",
      "source": [
        "Writing codes for the calculations is tough. I perfromed most the calculations by hand which was easier which also matched the answers resulted from built-in fucntion. Binary and hexadecimal for computers interms for performing multpiple and huge numbers of task easily producing the result in short period of time. They also simplify the operations and other systems related to it. "
      ],
      "metadata": {
        "id": "5H7PyUOE-HYJ"
      }
    }
  ]
}