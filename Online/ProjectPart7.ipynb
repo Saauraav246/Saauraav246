{
  "nbformat": 4,
  "nbformat_minor": 0,
  "metadata": {
    "colab": {
      "name": "Untitled0.ipynb",
      "provenance": [],
      "include_colab_link": true
    },
    "kernelspec": {
      "name": "python3",
      "display_name": "Python 3"
    }
  },
  "cells": [
    {
      "cell_type": "markdown",
      "metadata": {
        "id": "view-in-github",
        "colab_type": "text"
      },
      "source": [
        "<a href=\"https://colab.research.google.com/github/Saauraav246/Saauraav246/blob/main/Online/ProjectPart7.ipynb\" target=\"_parent\"><img src=\"https://colab.research.google.com/assets/colab-badge.svg\" alt=\"Open In Colab\"/></a>"
      ]
    },
    {
      "cell_type": "markdown",
      "metadata": {
        "id": "YCJaepmmfKrS"
      },
      "source": [
        "# Project Part # 7 : CPSMA 3913\n",
        "\n",
        "##Dr. Jacob's \n",
        " \n",
        "##Discrete Mathematics \n",
        "\n",
        "##Logic\n",
        "\n",
        "##Saurav Chaudhary\n",
        "\n",
        "\n"
      ]
    },
    {
      "cell_type": "markdown",
      "metadata": {
        "id": "Xs_Pvtua1Nnt"
      },
      "source": [
        "## 1 Logic"
      ]
    },
    {
      "cell_type": "markdown",
      "metadata": {
        "id": "2z6U1aB_fQDM"
      },
      "source": [
        "For my project I will take some propositions about my picks when I go shopping. There will be lots of options but I'm going to choose 3 where \n",
        "p be PickHoodies, q be PickShoes and r be PickSportswear, where hoodies and shoes are what I need than sportswear. "
      ]
    },
    {
      "cell_type": "code",
      "metadata": {
        "id": "rU_BgC_kfH7g"
      },
      "source": [
        "PickHoodies = True\n",
        "PickShoes = True\n",
        "PickSportswear = False\n",
        "\n"
      ],
      "execution_count": 16,
      "outputs": []
    },
    {
      "cell_type": "markdown",
      "metadata": {
        "id": "Iggon6VK1Vxo"
      },
      "source": [
        "For truth statements, "
      ]
    },
    {
      "cell_type": "code",
      "source": [
        "PickSportswear and PickHoodies"
      ],
      "metadata": {
        "id": "vSWcFkq3PMvb",
        "outputId": "92612136-065a-425a-9732-2cfc225f152b",
        "colab": {
          "base_uri": "https://localhost:8080/"
        }
      },
      "execution_count": 15,
      "outputs": [
        {
          "output_type": "execute_result",
          "data": {
            "text/plain": [
              "False"
            ]
          },
          "metadata": {},
          "execution_count": 15
        }
      ]
    },
    {
      "cell_type": "markdown",
      "metadata": {
        "id": "uXi6ll7cAj2o"
      },
      "source": [
        "$$r \\land p$$"
      ]
    },
    {
      "cell_type": "code",
      "source": [
        "PickSportswear or not PickShoes"
      ],
      "metadata": {
        "id": "C5LLjU8APkDG",
        "outputId": "6778765a-7ff6-43df-e377-ea1b1bd5e976",
        "colab": {
          "base_uri": "https://localhost:8080/"
        }
      },
      "execution_count": 14,
      "outputs": [
        {
          "output_type": "execute_result",
          "data": {
            "text/plain": [
              "False"
            ]
          },
          "metadata": {},
          "execution_count": 14
        }
      ]
    },
    {
      "cell_type": "markdown",
      "source": [
        "$$r \\lor \\lnot q$$"
      ],
      "metadata": {
        "id": "ZA4Z8M4IPigW"
      }
    },
    {
      "cell_type": "code",
      "metadata": {
        "colab": {
          "base_uri": "https://localhost:8080/"
        },
        "id": "eK4bLebw_cwV",
        "outputId": "9063e380-46ff-4c9f-adba-764099e59af1"
      },
      "source": [
        "PickSportswear or PickHoodies"
      ],
      "execution_count": 13,
      "outputs": [
        {
          "output_type": "execute_result",
          "data": {
            "text/plain": [
              "True"
            ]
          },
          "metadata": {},
          "execution_count": 13
        }
      ]
    },
    {
      "cell_type": "markdown",
      "metadata": {
        "id": "G7dnHb-2Af4D"
      },
      "source": [
        "$$r ⇒ p$$"
      ]
    },
    {
      "cell_type": "markdown",
      "source": [
        "##Generating Truth Table"
      ],
      "metadata": {
        "id": "tE5pL6NyQW6u"
      }
    },
    {
      "cell_type": "code",
      "source": [
        "pip install truth-table-Generator"
      ],
      "metadata": {
        "id": "nCrq0NLZQqk3",
        "outputId": "2058d894-8060-41a9-828f-563304d61318",
        "colab": {
          "base_uri": "https://localhost:8080/"
        }
      },
      "execution_count": 19,
      "outputs": [
        {
          "output_type": "stream",
          "name": "stdout",
          "text": [
            "Collecting truth-table-Generator\n",
            "  Downloading truth_table_generator-1.1.2.tar.gz (14 kB)\n",
            "Requirement already satisfied: numpy in /usr/local/lib/python3.7/dist-packages (from truth-table-Generator) (1.21.5)\n",
            "Requirement already satisfied: pandas in /usr/local/lib/python3.7/dist-packages (from truth-table-Generator) (1.3.5)\n",
            "Collecting PTable\n",
            "  Downloading PTable-0.9.2.tar.gz (31 kB)\n",
            "Requirement already satisfied: pyparsing in /usr/local/lib/python3.7/dist-packages (from truth-table-Generator) (3.0.7)\n",
            "Requirement already satisfied: tabulate in /usr/local/lib/python3.7/dist-packages (from truth-table-Generator) (0.8.9)\n",
            "Requirement already satisfied: jinja2 in /usr/local/lib/python3.7/dist-packages (from truth-table-Generator) (2.11.3)\n",
            "Requirement already satisfied: MarkupSafe>=0.23 in /usr/local/lib/python3.7/dist-packages (from jinja2->truth-table-Generator) (2.0.1)\n",
            "Requirement already satisfied: pytz>=2017.3 in /usr/local/lib/python3.7/dist-packages (from pandas->truth-table-Generator) (2018.9)\n",
            "Requirement already satisfied: python-dateutil>=2.7.3 in /usr/local/lib/python3.7/dist-packages (from pandas->truth-table-Generator) (2.8.2)\n",
            "Requirement already satisfied: six>=1.5 in /usr/local/lib/python3.7/dist-packages (from python-dateutil>=2.7.3->pandas->truth-table-Generator) (1.15.0)\n",
            "Building wheels for collected packages: truth-table-Generator, PTable\n",
            "  Building wheel for truth-table-Generator (setup.py) ... \u001b[?25l\u001b[?25hdone\n",
            "  Created wheel for truth-table-Generator: filename=truth_table_generator-1.1.2-py3-none-any.whl size=13960 sha256=b812d59e9c0899fc66d5c13053c6038cb024b89d6dcf91e39b9bb69214deabf5\n",
            "  Stored in directory: /root/.cache/pip/wheels/9a/55/b5/77f5756832494eafda92c7a94c1365ac31088a18a3a97dd480\n",
            "  Building wheel for PTable (setup.py) ... \u001b[?25l\u001b[?25hdone\n",
            "  Created wheel for PTable: filename=PTable-0.9.2-py3-none-any.whl size=22925 sha256=c36499390e3fc7992e85737d9090eec68ed76f12bb33529cb97348ca8c7e46aa\n",
            "  Stored in directory: /root/.cache/pip/wheels/33/df/2f/674985b3f8a2de3f96357d1eadef5110f74fa91b3785e52a54\n",
            "Successfully built truth-table-Generator PTable\n",
            "Installing collected packages: PTable, truth-table-Generator\n",
            "Successfully installed PTable-0.9.2 truth-table-Generator-1.1.2\n"
          ]
        }
      ]
    },
    {
      "cell_type": "markdown",
      "source": [
        "Truth Tables for my picks "
      ],
      "metadata": {
        "id": "_b17oUcNQ2P_"
      }
    },
    {
      "cell_type": "code",
      "source": [
        "import ttg\n",
        "\n",
        "table = ttg.Truths(['p', 'q', 'r'], ['~q', 'r and p', 'r or ~q', 'r => p'], ints = False)\n",
        "table.as_pandas().style.set_properties(**{'text-align': 'left'}).hide_index()\n"
      ],
      "metadata": {
        "id": "Cz2NuiBpQ6lI",
        "outputId": "820b337f-2767-4aba-c908-3ac8a8f792c6",
        "colab": {
          "base_uri": "https://localhost:8080/",
          "height": 300
        }
      },
      "execution_count": 26,
      "outputs": [
        {
          "output_type": "execute_result",
          "data": {
            "text/html": [
              "<style type=\"text/css\">\n",
              "#T_9e8b0_row0_col0, #T_9e8b0_row0_col1, #T_9e8b0_row0_col2, #T_9e8b0_row0_col3, #T_9e8b0_row0_col4, #T_9e8b0_row0_col5, #T_9e8b0_row0_col6, #T_9e8b0_row1_col0, #T_9e8b0_row1_col1, #T_9e8b0_row1_col2, #T_9e8b0_row1_col3, #T_9e8b0_row1_col4, #T_9e8b0_row1_col5, #T_9e8b0_row1_col6, #T_9e8b0_row2_col0, #T_9e8b0_row2_col1, #T_9e8b0_row2_col2, #T_9e8b0_row2_col3, #T_9e8b0_row2_col4, #T_9e8b0_row2_col5, #T_9e8b0_row2_col6, #T_9e8b0_row3_col0, #T_9e8b0_row3_col1, #T_9e8b0_row3_col2, #T_9e8b0_row3_col3, #T_9e8b0_row3_col4, #T_9e8b0_row3_col5, #T_9e8b0_row3_col6, #T_9e8b0_row4_col0, #T_9e8b0_row4_col1, #T_9e8b0_row4_col2, #T_9e8b0_row4_col3, #T_9e8b0_row4_col4, #T_9e8b0_row4_col5, #T_9e8b0_row4_col6, #T_9e8b0_row5_col0, #T_9e8b0_row5_col1, #T_9e8b0_row5_col2, #T_9e8b0_row5_col3, #T_9e8b0_row5_col4, #T_9e8b0_row5_col5, #T_9e8b0_row5_col6, #T_9e8b0_row6_col0, #T_9e8b0_row6_col1, #T_9e8b0_row6_col2, #T_9e8b0_row6_col3, #T_9e8b0_row6_col4, #T_9e8b0_row6_col5, #T_9e8b0_row6_col6, #T_9e8b0_row7_col0, #T_9e8b0_row7_col1, #T_9e8b0_row7_col2, #T_9e8b0_row7_col3, #T_9e8b0_row7_col4, #T_9e8b0_row7_col5, #T_9e8b0_row7_col6 {\n",
              "  text-align: left;\n",
              "}\n",
              "</style>\n",
              "<table id=\"T_9e8b0_\" class=\"dataframe\">\n",
              "  <thead>\n",
              "    <tr>\n",
              "      <th class=\"col_heading level0 col0\" >p</th>\n",
              "      <th class=\"col_heading level0 col1\" >q</th>\n",
              "      <th class=\"col_heading level0 col2\" >r</th>\n",
              "      <th class=\"col_heading level0 col3\" >~q</th>\n",
              "      <th class=\"col_heading level0 col4\" >r and p</th>\n",
              "      <th class=\"col_heading level0 col5\" >r or ~q</th>\n",
              "      <th class=\"col_heading level0 col6\" >r => p</th>\n",
              "    </tr>\n",
              "  </thead>\n",
              "  <tbody>\n",
              "    <tr>\n",
              "      <td id=\"T_9e8b0_row0_col0\" class=\"data row0 col0\" >True</td>\n",
              "      <td id=\"T_9e8b0_row0_col1\" class=\"data row0 col1\" >True</td>\n",
              "      <td id=\"T_9e8b0_row0_col2\" class=\"data row0 col2\" >True</td>\n",
              "      <td id=\"T_9e8b0_row0_col3\" class=\"data row0 col3\" >False</td>\n",
              "      <td id=\"T_9e8b0_row0_col4\" class=\"data row0 col4\" >True</td>\n",
              "      <td id=\"T_9e8b0_row0_col5\" class=\"data row0 col5\" >True</td>\n",
              "      <td id=\"T_9e8b0_row0_col6\" class=\"data row0 col6\" >True</td>\n",
              "    </tr>\n",
              "    <tr>\n",
              "      <td id=\"T_9e8b0_row1_col0\" class=\"data row1 col0\" >True</td>\n",
              "      <td id=\"T_9e8b0_row1_col1\" class=\"data row1 col1\" >True</td>\n",
              "      <td id=\"T_9e8b0_row1_col2\" class=\"data row1 col2\" >False</td>\n",
              "      <td id=\"T_9e8b0_row1_col3\" class=\"data row1 col3\" >False</td>\n",
              "      <td id=\"T_9e8b0_row1_col4\" class=\"data row1 col4\" >False</td>\n",
              "      <td id=\"T_9e8b0_row1_col5\" class=\"data row1 col5\" >False</td>\n",
              "      <td id=\"T_9e8b0_row1_col6\" class=\"data row1 col6\" >True</td>\n",
              "    </tr>\n",
              "    <tr>\n",
              "      <td id=\"T_9e8b0_row2_col0\" class=\"data row2 col0\" >True</td>\n",
              "      <td id=\"T_9e8b0_row2_col1\" class=\"data row2 col1\" >False</td>\n",
              "      <td id=\"T_9e8b0_row2_col2\" class=\"data row2 col2\" >True</td>\n",
              "      <td id=\"T_9e8b0_row2_col3\" class=\"data row2 col3\" >True</td>\n",
              "      <td id=\"T_9e8b0_row2_col4\" class=\"data row2 col4\" >True</td>\n",
              "      <td id=\"T_9e8b0_row2_col5\" class=\"data row2 col5\" >True</td>\n",
              "      <td id=\"T_9e8b0_row2_col6\" class=\"data row2 col6\" >True</td>\n",
              "    </tr>\n",
              "    <tr>\n",
              "      <td id=\"T_9e8b0_row3_col0\" class=\"data row3 col0\" >True</td>\n",
              "      <td id=\"T_9e8b0_row3_col1\" class=\"data row3 col1\" >False</td>\n",
              "      <td id=\"T_9e8b0_row3_col2\" class=\"data row3 col2\" >False</td>\n",
              "      <td id=\"T_9e8b0_row3_col3\" class=\"data row3 col3\" >True</td>\n",
              "      <td id=\"T_9e8b0_row3_col4\" class=\"data row3 col4\" >False</td>\n",
              "      <td id=\"T_9e8b0_row3_col5\" class=\"data row3 col5\" >True</td>\n",
              "      <td id=\"T_9e8b0_row3_col6\" class=\"data row3 col6\" >True</td>\n",
              "    </tr>\n",
              "    <tr>\n",
              "      <td id=\"T_9e8b0_row4_col0\" class=\"data row4 col0\" >False</td>\n",
              "      <td id=\"T_9e8b0_row4_col1\" class=\"data row4 col1\" >True</td>\n",
              "      <td id=\"T_9e8b0_row4_col2\" class=\"data row4 col2\" >True</td>\n",
              "      <td id=\"T_9e8b0_row4_col3\" class=\"data row4 col3\" >False</td>\n",
              "      <td id=\"T_9e8b0_row4_col4\" class=\"data row4 col4\" >False</td>\n",
              "      <td id=\"T_9e8b0_row4_col5\" class=\"data row4 col5\" >True</td>\n",
              "      <td id=\"T_9e8b0_row4_col6\" class=\"data row4 col6\" >False</td>\n",
              "    </tr>\n",
              "    <tr>\n",
              "      <td id=\"T_9e8b0_row5_col0\" class=\"data row5 col0\" >False</td>\n",
              "      <td id=\"T_9e8b0_row5_col1\" class=\"data row5 col1\" >True</td>\n",
              "      <td id=\"T_9e8b0_row5_col2\" class=\"data row5 col2\" >False</td>\n",
              "      <td id=\"T_9e8b0_row5_col3\" class=\"data row5 col3\" >False</td>\n",
              "      <td id=\"T_9e8b0_row5_col4\" class=\"data row5 col4\" >False</td>\n",
              "      <td id=\"T_9e8b0_row5_col5\" class=\"data row5 col5\" >False</td>\n",
              "      <td id=\"T_9e8b0_row5_col6\" class=\"data row5 col6\" >True</td>\n",
              "    </tr>\n",
              "    <tr>\n",
              "      <td id=\"T_9e8b0_row6_col0\" class=\"data row6 col0\" >False</td>\n",
              "      <td id=\"T_9e8b0_row6_col1\" class=\"data row6 col1\" >False</td>\n",
              "      <td id=\"T_9e8b0_row6_col2\" class=\"data row6 col2\" >True</td>\n",
              "      <td id=\"T_9e8b0_row6_col3\" class=\"data row6 col3\" >True</td>\n",
              "      <td id=\"T_9e8b0_row6_col4\" class=\"data row6 col4\" >False</td>\n",
              "      <td id=\"T_9e8b0_row6_col5\" class=\"data row6 col5\" >True</td>\n",
              "      <td id=\"T_9e8b0_row6_col6\" class=\"data row6 col6\" >False</td>\n",
              "    </tr>\n",
              "    <tr>\n",
              "      <td id=\"T_9e8b0_row7_col0\" class=\"data row7 col0\" >False</td>\n",
              "      <td id=\"T_9e8b0_row7_col1\" class=\"data row7 col1\" >False</td>\n",
              "      <td id=\"T_9e8b0_row7_col2\" class=\"data row7 col2\" >False</td>\n",
              "      <td id=\"T_9e8b0_row7_col3\" class=\"data row7 col3\" >True</td>\n",
              "      <td id=\"T_9e8b0_row7_col4\" class=\"data row7 col4\" >False</td>\n",
              "      <td id=\"T_9e8b0_row7_col5\" class=\"data row7 col5\" >True</td>\n",
              "      <td id=\"T_9e8b0_row7_col6\" class=\"data row7 col6\" >True</td>\n",
              "    </tr>\n",
              "  </tbody>\n",
              "</table>\n"
            ],
            "text/plain": [
              "<pandas.io.formats.style.Styler at 0x7fe276b18cd0>"
            ]
          },
          "metadata": {},
          "execution_count": 26
        }
      ]
    },
    {
      "cell_type": "markdown",
      "source": [
        "Truth table for \n",
        "XOR, ⊕ ¬ (P ⊕ Q ) ⇒ (Q ∨ R):"
      ],
      "metadata": {
        "id": "klIK0ynHRcqY"
      }
    },
    {
      "cell_type": "code",
      "source": [
        "table = ttg.Truths(['p', 'q', 'r'], ['p xor q', '~(p xor q)', 'q or r', '(~(p xor q)) => (q or r)'], ints = False)\n",
        "table.as_pandas().style.set_properties(**{'text-align': 'left'}).hide_index()"
      ],
      "metadata": {
        "id": "vgAOqr8nRu2N",
        "outputId": "ea029532-7157-4392-e87a-f4872c71b914",
        "colab": {
          "base_uri": "https://localhost:8080/",
          "height": 300
        }
      },
      "execution_count": 27,
      "outputs": [
        {
          "output_type": "execute_result",
          "data": {
            "text/html": [
              "<style type=\"text/css\">\n",
              "#T_eafbb_row0_col0, #T_eafbb_row0_col1, #T_eafbb_row0_col2, #T_eafbb_row0_col3, #T_eafbb_row0_col4, #T_eafbb_row0_col5, #T_eafbb_row0_col6, #T_eafbb_row1_col0, #T_eafbb_row1_col1, #T_eafbb_row1_col2, #T_eafbb_row1_col3, #T_eafbb_row1_col4, #T_eafbb_row1_col5, #T_eafbb_row1_col6, #T_eafbb_row2_col0, #T_eafbb_row2_col1, #T_eafbb_row2_col2, #T_eafbb_row2_col3, #T_eafbb_row2_col4, #T_eafbb_row2_col5, #T_eafbb_row2_col6, #T_eafbb_row3_col0, #T_eafbb_row3_col1, #T_eafbb_row3_col2, #T_eafbb_row3_col3, #T_eafbb_row3_col4, #T_eafbb_row3_col5, #T_eafbb_row3_col6, #T_eafbb_row4_col0, #T_eafbb_row4_col1, #T_eafbb_row4_col2, #T_eafbb_row4_col3, #T_eafbb_row4_col4, #T_eafbb_row4_col5, #T_eafbb_row4_col6, #T_eafbb_row5_col0, #T_eafbb_row5_col1, #T_eafbb_row5_col2, #T_eafbb_row5_col3, #T_eafbb_row5_col4, #T_eafbb_row5_col5, #T_eafbb_row5_col6, #T_eafbb_row6_col0, #T_eafbb_row6_col1, #T_eafbb_row6_col2, #T_eafbb_row6_col3, #T_eafbb_row6_col4, #T_eafbb_row6_col5, #T_eafbb_row6_col6, #T_eafbb_row7_col0, #T_eafbb_row7_col1, #T_eafbb_row7_col2, #T_eafbb_row7_col3, #T_eafbb_row7_col4, #T_eafbb_row7_col5, #T_eafbb_row7_col6 {\n",
              "  text-align: left;\n",
              "}\n",
              "</style>\n",
              "<table id=\"T_eafbb_\" class=\"dataframe\">\n",
              "  <thead>\n",
              "    <tr>\n",
              "      <th class=\"col_heading level0 col0\" >p</th>\n",
              "      <th class=\"col_heading level0 col1\" >q</th>\n",
              "      <th class=\"col_heading level0 col2\" >r</th>\n",
              "      <th class=\"col_heading level0 col3\" >p xor q</th>\n",
              "      <th class=\"col_heading level0 col4\" >~(p xor q)</th>\n",
              "      <th class=\"col_heading level0 col5\" >q or r</th>\n",
              "      <th class=\"col_heading level0 col6\" >(~(p xor q)) => (q or r)</th>\n",
              "    </tr>\n",
              "  </thead>\n",
              "  <tbody>\n",
              "    <tr>\n",
              "      <td id=\"T_eafbb_row0_col0\" class=\"data row0 col0\" >True</td>\n",
              "      <td id=\"T_eafbb_row0_col1\" class=\"data row0 col1\" >True</td>\n",
              "      <td id=\"T_eafbb_row0_col2\" class=\"data row0 col2\" >True</td>\n",
              "      <td id=\"T_eafbb_row0_col3\" class=\"data row0 col3\" >False</td>\n",
              "      <td id=\"T_eafbb_row0_col4\" class=\"data row0 col4\" >True</td>\n",
              "      <td id=\"T_eafbb_row0_col5\" class=\"data row0 col5\" >True</td>\n",
              "      <td id=\"T_eafbb_row0_col6\" class=\"data row0 col6\" >True</td>\n",
              "    </tr>\n",
              "    <tr>\n",
              "      <td id=\"T_eafbb_row1_col0\" class=\"data row1 col0\" >True</td>\n",
              "      <td id=\"T_eafbb_row1_col1\" class=\"data row1 col1\" >True</td>\n",
              "      <td id=\"T_eafbb_row1_col2\" class=\"data row1 col2\" >False</td>\n",
              "      <td id=\"T_eafbb_row1_col3\" class=\"data row1 col3\" >False</td>\n",
              "      <td id=\"T_eafbb_row1_col4\" class=\"data row1 col4\" >True</td>\n",
              "      <td id=\"T_eafbb_row1_col5\" class=\"data row1 col5\" >True</td>\n",
              "      <td id=\"T_eafbb_row1_col6\" class=\"data row1 col6\" >True</td>\n",
              "    </tr>\n",
              "    <tr>\n",
              "      <td id=\"T_eafbb_row2_col0\" class=\"data row2 col0\" >True</td>\n",
              "      <td id=\"T_eafbb_row2_col1\" class=\"data row2 col1\" >False</td>\n",
              "      <td id=\"T_eafbb_row2_col2\" class=\"data row2 col2\" >True</td>\n",
              "      <td id=\"T_eafbb_row2_col3\" class=\"data row2 col3\" >True</td>\n",
              "      <td id=\"T_eafbb_row2_col4\" class=\"data row2 col4\" >False</td>\n",
              "      <td id=\"T_eafbb_row2_col5\" class=\"data row2 col5\" >True</td>\n",
              "      <td id=\"T_eafbb_row2_col6\" class=\"data row2 col6\" >True</td>\n",
              "    </tr>\n",
              "    <tr>\n",
              "      <td id=\"T_eafbb_row3_col0\" class=\"data row3 col0\" >True</td>\n",
              "      <td id=\"T_eafbb_row3_col1\" class=\"data row3 col1\" >False</td>\n",
              "      <td id=\"T_eafbb_row3_col2\" class=\"data row3 col2\" >False</td>\n",
              "      <td id=\"T_eafbb_row3_col3\" class=\"data row3 col3\" >True</td>\n",
              "      <td id=\"T_eafbb_row3_col4\" class=\"data row3 col4\" >False</td>\n",
              "      <td id=\"T_eafbb_row3_col5\" class=\"data row3 col5\" >False</td>\n",
              "      <td id=\"T_eafbb_row3_col6\" class=\"data row3 col6\" >True</td>\n",
              "    </tr>\n",
              "    <tr>\n",
              "      <td id=\"T_eafbb_row4_col0\" class=\"data row4 col0\" >False</td>\n",
              "      <td id=\"T_eafbb_row4_col1\" class=\"data row4 col1\" >True</td>\n",
              "      <td id=\"T_eafbb_row4_col2\" class=\"data row4 col2\" >True</td>\n",
              "      <td id=\"T_eafbb_row4_col3\" class=\"data row4 col3\" >True</td>\n",
              "      <td id=\"T_eafbb_row4_col4\" class=\"data row4 col4\" >False</td>\n",
              "      <td id=\"T_eafbb_row4_col5\" class=\"data row4 col5\" >True</td>\n",
              "      <td id=\"T_eafbb_row4_col6\" class=\"data row4 col6\" >True</td>\n",
              "    </tr>\n",
              "    <tr>\n",
              "      <td id=\"T_eafbb_row5_col0\" class=\"data row5 col0\" >False</td>\n",
              "      <td id=\"T_eafbb_row5_col1\" class=\"data row5 col1\" >True</td>\n",
              "      <td id=\"T_eafbb_row5_col2\" class=\"data row5 col2\" >False</td>\n",
              "      <td id=\"T_eafbb_row5_col3\" class=\"data row5 col3\" >True</td>\n",
              "      <td id=\"T_eafbb_row5_col4\" class=\"data row5 col4\" >False</td>\n",
              "      <td id=\"T_eafbb_row5_col5\" class=\"data row5 col5\" >True</td>\n",
              "      <td id=\"T_eafbb_row5_col6\" class=\"data row5 col6\" >True</td>\n",
              "    </tr>\n",
              "    <tr>\n",
              "      <td id=\"T_eafbb_row6_col0\" class=\"data row6 col0\" >False</td>\n",
              "      <td id=\"T_eafbb_row6_col1\" class=\"data row6 col1\" >False</td>\n",
              "      <td id=\"T_eafbb_row6_col2\" class=\"data row6 col2\" >True</td>\n",
              "      <td id=\"T_eafbb_row6_col3\" class=\"data row6 col3\" >False</td>\n",
              "      <td id=\"T_eafbb_row6_col4\" class=\"data row6 col4\" >True</td>\n",
              "      <td id=\"T_eafbb_row6_col5\" class=\"data row6 col5\" >True</td>\n",
              "      <td id=\"T_eafbb_row6_col6\" class=\"data row6 col6\" >True</td>\n",
              "    </tr>\n",
              "    <tr>\n",
              "      <td id=\"T_eafbb_row7_col0\" class=\"data row7 col0\" >False</td>\n",
              "      <td id=\"T_eafbb_row7_col1\" class=\"data row7 col1\" >False</td>\n",
              "      <td id=\"T_eafbb_row7_col2\" class=\"data row7 col2\" >False</td>\n",
              "      <td id=\"T_eafbb_row7_col3\" class=\"data row7 col3\" >False</td>\n",
              "      <td id=\"T_eafbb_row7_col4\" class=\"data row7 col4\" >True</td>\n",
              "      <td id=\"T_eafbb_row7_col5\" class=\"data row7 col5\" >False</td>\n",
              "      <td id=\"T_eafbb_row7_col6\" class=\"data row7 col6\" >False</td>\n",
              "    </tr>\n",
              "  </tbody>\n",
              "</table>\n"
            ],
            "text/plain": [
              "<pandas.io.formats.style.Styler at 0x7fe276b86750>"
            ]
          },
          "metadata": {},
          "execution_count": 27
        }
      ]
    },
    {
      "cell_type": "markdown",
      "source": [
        "The truth table in the project was satisfactory for me. The propositions were an example for daily life activities and I found this project really interesting. Logic was one of the tough topics I studied in this course and completing this project had me clear on the topic. "
      ],
      "metadata": {
        "id": "4rFie1hUcmLD"
      }
    }
  ]
}