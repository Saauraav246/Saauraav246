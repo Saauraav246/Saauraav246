{
  "nbformat": 4,
  "nbformat_minor": 0,
  "metadata": {
    "colab": {
      "name": "Untitled0.ipynb",
      "provenance": [],
      "include_colab_link": true
    },
    "kernelspec": {
      "name": "python3",
      "display_name": "Python 3"
    }
  },
  "cells": [
    {
      "cell_type": "markdown",
      "metadata": {
        "id": "view-in-github",
        "colab_type": "text"
      },
      "source": [
        "<a href=\"https://colab.research.google.com/github/Saauraav246/Saauraav246/blob/main/Online/ProjectPart3.ipynb\" target=\"_parent\"><img src=\"https://colab.research.google.com/assets/colab-badge.svg\" alt=\"Open In Colab\"/></a>"
      ]
    },
    {
      "cell_type": "markdown",
      "metadata": {
        "id": "YCJaepmmfKrS"
      },
      "source": [
        "# Project Part # 3: CPSMA 3133 Discrete Mathematics \n",
        "\n",
        "## Probability\n",
        "\n",
        "### Saurav Chaudhary\n",
        "\n",
        "##Dr. Jacob\n",
        "\n",
        "\n",
        "\n"
      ]
    },
    {
      "cell_type": "markdown",
      "metadata": {
        "id": "Xs_Pvtua1Nnt"
      },
      "source": [
        "## 1 Probability"
      ]
    },
    {
      "cell_type": "markdown",
      "metadata": {
        "id": "2z6U1aB_fQDM"
      },
      "source": [
        "Here, for the project I provided example of 3 different colour of socks where there are total of 8 socks in a closet i.e 3 red , 2 blue and 3 green where the probabiliy of getting red sock R $\\frac38$ , green G $\\frac14$ and blue B $\\frac38$. \n"
      ]
    },
    {
      "cell_type": "code",
      "metadata": {
        "id": "rU_BgC_kfH7g",
        "colab": {
          "base_uri": "https://localhost:8080/"
        },
        "outputId": "2c3d0e1d-ba69-4083-f69f-59dec49bc277"
      },
      "source": [
        "pro = [3/8,1/4,3/8]\n",
        "sum(pro)\n",
        "\n",
        " #result should be 1 for the sum of provided probability\n",
        "\n"
      ],
      "execution_count": 184,
      "outputs": [
        {
          "output_type": "execute_result",
          "data": {
            "text/plain": [
              "1.0"
            ]
          },
          "metadata": {},
          "execution_count": 184
        }
      ]
    },
    {
      "cell_type": "markdown",
      "metadata": {
        "id": "Iggon6VK1Vxo"
      },
      "source": [
        "The color which was drawn didn't matched the outfit so probabilty of getting another color between red and green be represented by D."
      ]
    },
    {
      "cell_type": "code",
      "metadata": {
        "id": "kCHzuVw5vvJ6",
        "colab": {
          "base_uri": "https://localhost:8080/"
        },
        "outputId": "664e0922-99e9-4241-febc-b40d45df0ab5"
      },
      "source": [
        "ProbabilityD = 0\n",
        "\n",
        "for i in [0,2]:\n",
        "  ProbabilityD = ProbabilityD + pro[i]\n",
        "\n",
        "ProbabilityD"
      ],
      "execution_count": 207,
      "outputs": [
        {
          "output_type": "execute_result",
          "data": {
            "text/plain": [
              "0.75"
            ]
          },
          "metadata": {},
          "execution_count": 207
        }
      ]
    },
    {
      "cell_type": "markdown",
      "metadata": {
        "id": "-Xx3fefvwTx8"
      },
      "source": [
        "The probability of getting the colour Red is \n",
        "\n",
        "$$\n",
        "P(R|D)=\\frac{P(R\\cap D)}{P(D)}\n",
        "$$\n"
      ]
    },
    {
      "cell_type": "code",
      "source": [
        "3/8/ProbabilityD"
      ],
      "metadata": {
        "colab": {
          "base_uri": "https://localhost:8080/"
        },
        "id": "cGIU8QRw_Iaq",
        "outputId": "38b2583d-66fc-429b-fef9-a94f9c84d4eb"
      },
      "execution_count": 208,
      "outputs": [
        {
          "output_type": "execute_result",
          "data": {
            "text/plain": [
              "0.5"
            ]
          },
          "metadata": {},
          "execution_count": 208
        }
      ]
    },
    {
      "cell_type": "markdown",
      "source": [
        "Now the probability of getting the colour Green is \n",
        "$$\n",
        "P(G|D)=\\frac{P(G\\cap D)}{P(D)}\n",
        "$$"
      ],
      "metadata": {
        "id": "rN0bt5-69tmW"
      }
    },
    {
      "cell_type": "code",
      "source": [
        "1/4/ProbabilityD"
      ],
      "metadata": {
        "colab": {
          "base_uri": "https://localhost:8080/"
        },
        "id": "O-FVfVI-_P8J",
        "outputId": "c4804071-58a0-43bc-c61d-b6e0101a7e3e"
      },
      "execution_count": 209,
      "outputs": [
        {
          "output_type": "execute_result",
          "data": {
            "text/plain": [
              "0.3333333333333333"
            ]
          },
          "metadata": {},
          "execution_count": 209
        }
      ]
    },
    {
      "cell_type": "markdown",
      "metadata": {
        "id": "RY7HVZ2q0MYw"
      },
      "source": [
        " BAYER'S THEOREM ,\n",
        "\n",
        "$$\n",
        "P(R|G) = \\frac{P(R)P(R|G)}{P(D)}\n",
        "$$\n",
        "\n"
      ]
    },
    {
      "cell_type": "code",
      "metadata": {
        "id": "DzLdXQ9l1VwT",
        "colab": {
          "base_uri": "https://localhost:8080/"
        },
        "outputId": "a673e4ab-6fdd-4f7f-c476-041685a7ec40"
      },
      "source": [
        "0.5 == (3/8 * 1)/ProbabilityD"
      ],
      "execution_count": 210,
      "outputs": [
        {
          "output_type": "execute_result",
          "data": {
            "text/plain": [
              "True"
            ]
          },
          "metadata": {},
          "execution_count": 210
        }
      ]
    },
    {
      "cell_type": "markdown",
      "source": [
        "\n",
        "Deducting chances of red from the other colour in the closet"
      ],
      "metadata": {
        "id": "YbrBxsWBBpmj"
      }
    },
    {
      "cell_type": "code",
      "source": [
        "ProbabilityD = 3/8\n",
        "1-ProbabilityD"
      ],
      "metadata": {
        "colab": {
          "base_uri": "https://localhost:8080/"
        },
        "id": "UWXKPG27BsGH",
        "outputId": "3ba7e4cb-bcc2-4f87-eb63-16385830235f"
      },
      "execution_count": 211,
      "outputs": [
        {
          "output_type": "execute_result",
          "data": {
            "text/plain": [
              "0.625"
            ]
          },
          "metadata": {},
          "execution_count": 211
        }
      ]
    },
    {
      "cell_type": "markdown",
      "metadata": {
        "id": "oZlnvFzUxAEh"
      },
      "source": [
        "\n",
        "For this part, I did an input for prob8 and prob and drawing it for 10 times."
      ]
    },
    {
      "cell_type": "code",
      "metadata": {
        "id": "rcLbKtBfzCTQ"
      },
      "source": [
        "pro8 = [8*i for i in pro]\n",
        "pro =[3/8,1/4,3/8]"
      ],
      "execution_count": 212,
      "outputs": []
    },
    {
      "cell_type": "code",
      "metadata": {
        "id": "sAueNdZczO3S",
        "colab": {
          "base_uri": "https://localhost:8080/"
        },
        "outputId": "5da0f9e8-45a6-4f3a-f7df-38ef4927d136"
      },
      "source": [
        "pro8"
      ],
      "execution_count": 213,
      "outputs": [
        {
          "output_type": "execute_result",
          "data": {
            "text/plain": [
              "[3.0, 2.0, 3.0]"
            ]
          },
          "metadata": {},
          "execution_count": 213
        }
      ]
    },
    {
      "cell_type": "code",
      "metadata": {
        "id": "3014601TxgnX",
        "colab": {
          "base_uri": "https://localhost:8080/"
        },
        "outputId": "ace29448-51b3-414d-822b-063b4a43c5ea"
      },
      "source": [
        "from random import choices\n",
        "\n",
        "\n",
        "choices(['Red','Green','Blue'],pro8,k=10)"
      ],
      "execution_count": 214,
      "outputs": [
        {
          "output_type": "execute_result",
          "data": {
            "text/plain": [
              "['Blue',\n",
              " 'Red',\n",
              " 'Green',\n",
              " 'Green',\n",
              " 'Blue',\n",
              " 'Blue',\n",
              " 'Blue',\n",
              " 'Red',\n",
              " 'Blue',\n",
              " 'Blue']"
            ]
          },
          "metadata": {},
          "execution_count": 214
        }
      ]
    },
    {
      "cell_type": "code",
      "metadata": {
        "id": "sRctaUNDqp4U",
        "outputId": "246ad536-2c48-4813-a653-c1dd701067c5",
        "colab": {
          "base_uri": "https://localhost:8080/"
        }
      },
      "source": [
        "choices(['Red','Green','Blue'],pro,k=10)"
      ],
      "execution_count": 215,
      "outputs": [
        {
          "output_type": "execute_result",
          "data": {
            "text/plain": [
              "['Red', 'Red', 'Blue', 'Green', 'Blue', 'Red', 'Green', 'Blue', 'Red', 'Blue']"
            ]
          },
          "metadata": {},
          "execution_count": 215
        }
      ]
    },
    {
      "cell_type": "markdown",
      "metadata": {
        "id": "UKPjbjzCzeOS"
      },
      "source": [
        "Here I will be drawing for 999 times. "
      ]
    },
    {
      "cell_type": "code",
      "metadata": {
        "id": "W8DskPTBFDly"
      },
      "source": [
        "Drawing =  choices(['Red','Green','Blue'],pro8,k=999)\n",
        "\n",
        "countRed = 0\n",
        "countGreen = 0\n",
        "countBlue = 0\n",
        "\n",
        "for i in Drawing:\n",
        "  if i =='Red':\n",
        "    countRed += 1\n",
        "  elif i == 'Green':\n",
        "    countGreen += 1\n",
        "  elif i == 'Blue':\n",
        "    countBlue += 1\n",
        "\n",
        "result = [countRed/len(Drawing),countGreen/len(Drawing),countBlue/len(Drawing)]"
      ],
      "execution_count": 216,
      "outputs": []
    },
    {
      "cell_type": "code",
      "metadata": {
        "id": "D2STYK2xF4WT",
        "colab": {
          "base_uri": "https://localhost:8080/"
        },
        "outputId": "19bb88cf-4bd4-4671-ed92-a53837f289b1"
      },
      "source": [
        "result"
      ],
      "execution_count": 217,
      "outputs": [
        {
          "output_type": "execute_result",
          "data": {
            "text/plain": [
              "[0.3893893893893894, 0.26326326326326327, 0.34734734734734735]"
            ]
          },
          "metadata": {},
          "execution_count": 217
        }
      ]
    },
    {
      "cell_type": "markdown",
      "metadata": {
        "id": "_7RoPTU_hXG1"
      },
      "source": [
        "## Obeservations\n",
        "Probability is part of our daily lives, including weather reports, sports or selection of foods. This project was very intresting but the results varied. In the project I felt coding part was tougher than the previous projects but did my best to get the results and I'm happy with the outcomes. "
      ]
    }
  ]
}