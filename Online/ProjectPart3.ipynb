{
  "nbformat": 4,
  "nbformat_minor": 0,
  "metadata": {
    "colab": {
      "name": "Untitled0.ipynb",
      "provenance": [],
      "include_colab_link": true
    },
    "kernelspec": {
      "name": "python3",
      "display_name": "Python 3"
    }
  },
  "cells": [
    {
      "cell_type": "markdown",
      "metadata": {
        "id": "view-in-github",
        "colab_type": "text"
      },
      "source": [
        "<a href=\"https://colab.research.google.com/github/Saauraav246/Saauraav246/blob/main/Online/ProjectPart3.ipynb\" target=\"_parent\"><img src=\"https://colab.research.google.com/assets/colab-badge.svg\" alt=\"Open In Colab\"/></a>"
      ]
    },
    {
      "cell_type": "markdown",
      "metadata": {
        "id": "YCJaepmmfKrS"
      },
      "source": [
        "# Project Part # 3: CPSMA 3133 Discrete Mathematics \n",
        "\n",
        "## Probability\n",
        "\n",
        "### Saurav Chaudhary\n",
        "\n",
        "##Dr. Jacob\n",
        "\n",
        "\n",
        "\n"
      ]
    },
    {
      "cell_type": "markdown",
      "metadata": {
        "id": "Xs_Pvtua1Nnt"
      },
      "source": [
        "## 1 Probability"
      ]
    },
    {
      "cell_type": "markdown",
      "metadata": {
        "id": "2z6U1aB_fQDM"
      },
      "source": [
        "Here, for the project I provided example of 3 different colour of socks where there are total of 8 socks in a closet i.e 3 red , 2 blue and 3 green where the probabiliy of getting red sock R $\\frac38$ , green G $\\frac14$ and blue B $\\frac38$. \n"
      ]
    },
    {
      "cell_type": "code",
      "metadata": {
        "id": "rU_BgC_kfH7g",
        "colab": {
          "base_uri": "https://localhost:8080/"
        },
        "outputId": "bcc22e32-3fff-473b-f9e4-c89b500291d8"
      },
      "source": [
        "pro = [3/8,1/4,3/8]\n",
        "sum(pro)\n",
        "\n",
        " #result should be 1 for the sum of provided probability\n",
        "\n"
      ],
      "execution_count": 280,
      "outputs": [
        {
          "output_type": "execute_result",
          "data": {
            "text/plain": [
              "1.0"
            ]
          },
          "metadata": {},
          "execution_count": 280
        }
      ]
    },
    {
      "cell_type": "markdown",
      "metadata": {
        "id": "Iggon6VK1Vxo"
      },
      "source": [
        "The color which was drawn didn't matched the outfit so probabilty of getting another color between red and green be represented by D."
      ]
    },
    {
      "cell_type": "code",
      "metadata": {
        "id": "kCHzuVw5vvJ6",
        "colab": {
          "base_uri": "https://localhost:8080/"
        },
        "outputId": "c625329e-824b-44eb-9ebf-595045ac2482"
      },
      "source": [
        "ProbabilityD = 0\n",
        "\n",
        "for i in [0,2]:\n",
        "  ProbabilityD = ProbabilityD + pro[i]\n",
        "\n",
        "ProbabilityD"
      ],
      "execution_count": 281,
      "outputs": [
        {
          "output_type": "execute_result",
          "data": {
            "text/plain": [
              "0.75"
            ]
          },
          "metadata": {},
          "execution_count": 281
        }
      ]
    },
    {
      "cell_type": "markdown",
      "metadata": {
        "id": "-Xx3fefvwTx8"
      },
      "source": [
        "The probability of getting the colour Red is \n",
        "\n",
        "$$\n",
        "P(R|D)=\\frac{P(R\\cap D)}{P(D)}\n",
        "$$\n"
      ]
    },
    {
      "cell_type": "code",
      "source": [
        "3/8/ProbabilityD"
      ],
      "metadata": {
        "colab": {
          "base_uri": "https://localhost:8080/"
        },
        "id": "cGIU8QRw_Iaq",
        "outputId": "535ee35f-9852-421b-c4ca-52be75d97a89"
      },
      "execution_count": 282,
      "outputs": [
        {
          "output_type": "execute_result",
          "data": {
            "text/plain": [
              "0.5"
            ]
          },
          "metadata": {},
          "execution_count": 282
        }
      ]
    },
    {
      "cell_type": "markdown",
      "source": [
        "Now the probability of getting the colour Green is \n",
        "$$\n",
        "P(G|D)=\\frac{P(G\\cap D)}{P(D)}\n",
        "$$"
      ],
      "metadata": {
        "id": "rN0bt5-69tmW"
      }
    },
    {
      "cell_type": "code",
      "source": [
        "1/4/ProbabilityD"
      ],
      "metadata": {
        "colab": {
          "base_uri": "https://localhost:8080/"
        },
        "id": "O-FVfVI-_P8J",
        "outputId": "95fef69f-090d-4fd9-fe49-4831fa38dae2"
      },
      "execution_count": 283,
      "outputs": [
        {
          "output_type": "execute_result",
          "data": {
            "text/plain": [
              "0.3333333333333333"
            ]
          },
          "metadata": {},
          "execution_count": 283
        }
      ]
    },
    {
      "cell_type": "markdown",
      "metadata": {
        "id": "RY7HVZ2q0MYw"
      },
      "source": [
        " ## FROM BAYES' THEOREM ,\n",
        " Determining the conditional probability.\n",
        " \n",
        "\n",
        "$$\n",
        "P(R|G) = \\frac{P(R)P(G|R)}{P(D)}\n",
        "$$\n",
        "\n"
      ]
    },
    {
      "cell_type": "code",
      "metadata": {
        "id": "DzLdXQ9l1VwT",
        "colab": {
          "base_uri": "https://localhost:8080/"
        },
        "outputId": "4081db28-5b42-4b31-a1d0-858dd58468c1"
      },
      "source": [
        "0.5 == (3/8 * 1)/ProbabilityD"
      ],
      "execution_count": 284,
      "outputs": [
        {
          "output_type": "execute_result",
          "data": {
            "text/plain": [
              "True"
            ]
          },
          "metadata": {},
          "execution_count": 284
        }
      ]
    },
    {
      "cell_type": "markdown",
      "source": [
        "\n",
        "Deducting chances of red from the other colour in the closet"
      ],
      "metadata": {
        "id": "YbrBxsWBBpmj"
      }
    },
    {
      "cell_type": "code",
      "source": [
        "ProbabilityD = 3/8\n",
        "1-ProbabilityD"
      ],
      "metadata": {
        "colab": {
          "base_uri": "https://localhost:8080/"
        },
        "id": "UWXKPG27BsGH",
        "outputId": "d7e62a49-7d1c-4081-b161-8f4b394d8dc5"
      },
      "execution_count": 285,
      "outputs": [
        {
          "output_type": "execute_result",
          "data": {
            "text/plain": [
              "0.625"
            ]
          },
          "metadata": {},
          "execution_count": 285
        }
      ]
    },
    {
      "cell_type": "markdown",
      "metadata": {
        "id": "oZlnvFzUxAEh"
      },
      "source": [
        "\n",
        "For this part, I did an input for prob8 and prob and drawing it for 10 times."
      ]
    },
    {
      "cell_type": "code",
      "metadata": {
        "id": "rcLbKtBfzCTQ"
      },
      "source": [
        "pro8 = [8*i for i in pro]\n",
        "pro =[3/8,1/4,3/8]"
      ],
      "execution_count": 286,
      "outputs": []
    },
    {
      "cell_type": "code",
      "metadata": {
        "id": "sAueNdZczO3S",
        "colab": {
          "base_uri": "https://localhost:8080/"
        },
        "outputId": "f74a0aaf-dbf2-427b-f809-1d97f493ffc8"
      },
      "source": [
        "pro8"
      ],
      "execution_count": 287,
      "outputs": [
        {
          "output_type": "execute_result",
          "data": {
            "text/plain": [
              "[3.0, 2.0, 3.0]"
            ]
          },
          "metadata": {},
          "execution_count": 287
        }
      ]
    },
    {
      "cell_type": "code",
      "metadata": {
        "id": "3014601TxgnX",
        "colab": {
          "base_uri": "https://localhost:8080/"
        },
        "outputId": "a6bd17a1-ef5e-4fd1-8c86-5ede5a709728"
      },
      "source": [
        "from random import choices\n",
        "\n",
        "\n",
        "choices(['Red','Green','Blue'],pro8,k=10)"
      ],
      "execution_count": 288,
      "outputs": [
        {
          "output_type": "execute_result",
          "data": {
            "text/plain": [
              "['Red',\n",
              " 'Green',\n",
              " 'Green',\n",
              " 'Green',\n",
              " 'Red',\n",
              " 'Blue',\n",
              " 'Red',\n",
              " 'Green',\n",
              " 'Blue',\n",
              " 'Red']"
            ]
          },
          "metadata": {},
          "execution_count": 288
        }
      ]
    },
    {
      "cell_type": "code",
      "metadata": {
        "id": "sRctaUNDqp4U",
        "outputId": "476b187c-6cb7-44f9-e9f8-625fb6442e77",
        "colab": {
          "base_uri": "https://localhost:8080/"
        }
      },
      "source": [
        "choices(['Red','Green','Blue'],pro,k=10)"
      ],
      "execution_count": 289,
      "outputs": [
        {
          "output_type": "execute_result",
          "data": {
            "text/plain": [
              "['Blue',\n",
              " 'Green',\n",
              " 'Blue',\n",
              " 'Red',\n",
              " 'Blue',\n",
              " 'Red',\n",
              " 'Green',\n",
              " 'Green',\n",
              " 'Red',\n",
              " 'Blue']"
            ]
          },
          "metadata": {},
          "execution_count": 289
        }
      ]
    },
    {
      "cell_type": "markdown",
      "metadata": {
        "id": "UKPjbjzCzeOS"
      },
      "source": [
        "Here I will be drawing for 999 times. "
      ]
    },
    {
      "cell_type": "code",
      "metadata": {
        "id": "W8DskPTBFDly"
      },
      "source": [
        "Drawing =  choices(['Red','Green','Blue'],pro8,k=999)\n",
        "\n",
        "countRed = 0\n",
        "countGreen = 0\n",
        "countBlue = 0\n",
        "\n",
        "for i in Drawing:\n",
        "  if i =='Red':\n",
        "    countRed += 1\n",
        "  elif i == 'Green':\n",
        "    countGreen += 1\n",
        "  elif i == 'Blue':\n",
        "    countBlue += 1\n",
        "\n",
        "result = [countRed/len(Drawing),countGreen/len(Drawing),countBlue/len(Drawing)]"
      ],
      "execution_count": 290,
      "outputs": []
    },
    {
      "cell_type": "code",
      "metadata": {
        "id": "D2STYK2xF4WT",
        "colab": {
          "base_uri": "https://localhost:8080/"
        },
        "outputId": "d9455c1c-34c8-45fc-e1af-6d445ba2c87a"
      },
      "source": [
        "result"
      ],
      "execution_count": 291,
      "outputs": [
        {
          "output_type": "execute_result",
          "data": {
            "text/plain": [
              "[0.38538538538538536, 0.22022022022022023, 0.3943943943943944]"
            ]
          },
          "metadata": {},
          "execution_count": 291
        }
      ]
    },
    {
      "cell_type": "markdown",
      "metadata": {
        "id": "_7RoPTU_hXG1"
      },
      "source": [
        "## Obeservations\n",
        "Probability is part of our daily lives, including weather reports, sports or selection of foods but finding out the probability with hand can be more harder and the results would still vary. Here the sample I provided is an easy outcome but the results differs depending on the situations. "
      ]
    }
  ]
}